{
 "cells": [
  {
   "cell_type": "code",
   "execution_count": null,
   "id": "2cad256e",
   "metadata": {},
   "outputs": [],
   "source": []
  },
  {
   "cell_type": "markdown",
   "id": "1333c264",
   "metadata": {},
   "source": [
    "Quiz Maker & Grader"
   ]
  },
  {
   "cell_type": "markdown",
   "id": "6ed6bf38",
   "metadata": {},
   "source": [
    "This is a Quiz Maker & Grader to test users' knowledge of Python \n",
    "through a set of multiple-choice questions. This system will present a series of theoretical Python questions, \n",
    "accept answers from the user, grade them, and display the final score.\n",
    "This system will allow users (Students and Admin) to:\n",
    "• Attempt a quiz with 10 multiple-choice Python questions\n",
    "• Admins to add questions\n",
    "• Select answers by choosing A, B, C, or D\n",
    "• View immediate feedback for each question (Correct/Incorrect)\n",
    "• See their final score at the end of the quiz\n",
    "• Save their score to a .txt file for record-keeping"
   ]
  },
  {
   "cell_type": "markdown",
   "id": "52563bfc",
   "metadata": {},
   "source": [
    "This is a dictionary to store the quiz questions."
   ]
  },
  {
   "cell_type": "code",
   "execution_count": 5,
   "id": "0eaebecd",
   "metadata": {},
   "outputs": [],
   "source": [
    "#dictionary to define your questions\n",
    "quiz_questions = {\n",
    "    \"What is the correct file extension for Python files?\":{\n",
    "        \"options\": [\"A. .pt\", \"B. .py\",\"C. .python\", \"D. pyt\"],\n",
    "        \"answer\":\"B\"\n",
    "    },\n",
    "    \n",
    "    \"What is the correct way to create a variable with the numeric value 5?\":{\n",
    "        \"options\": [\"A. num = 5\", \"B. int num = 5\", \"C. num := 5\", \"D. num == 5\"],\n",
    "        \"answer\": \"A\"\n",
    "    },\n",
    "\n",
    "    \"Which of the following is a valid Python comment?\":{\n",
    "        \"options\": [\"A. // This is a comment\", \"B. <!-- This is a comment -->\", \"C. # This is a comment\", \"D. ** This is a comment **\"],\n",
    "        \"answer\": \"C\"\n",
    "    },\n",
    "\n",
    "    \"What is the output of print(2 + 3 * 4)?\":{\n",
    "        \"options\": [\"A. 20\", \"B. 14\", \"C. 24\", \"D. 18\"],\n",
    "        \"answer\": \"B\"\n",
    "    },\n",
    "\n",
    "    \"Which keyword is used to define a function in Python?\":{\n",
    "        \"options\": [\"A. function\", \"B. define\", \"C. def\", \"D. fun\"],\n",
    "        \"answer\": \"C\"\n",
    "    },\n",
    "\n",
    "    \"Which data type is used to store text in Python?\":{\n",
    "        \"options\": [\"A. int\", \"B. str\", \"C. bool\", \"D. float\"],\n",
    "        \"answer\": \"B\"\n",
    "    },\n",
    "\n",
    "    \"How do you start a for loop in Python?\":{\n",
    "        \"options\": [\"A. for x to y:\", \"B. loop x in y:\", \"C. for x in y\", \"D. for x in y:\"],\n",
    "        \"answer\": \"D\"\n",
    "    },\n",
    "\n",
    "    \"Which of these is a Python boolean value?\":{\n",
    "        \"options\": [\"A. TRUE\", \"B. true\", \"C. Yes\", \"D. True\"],\n",
    "        \"answer\": \"D\"\n",
    "    },\n",
    "\n",
    "    \"What does the len() function do in Python?\":{\n",
    "        \"options\": [\"A. Returns the type of a variable\", \"B. Converts to lowercase\", \"C. Returns the length of an object\", \"D. Rounds a number\"],\n",
    "        \"answer\": \"C\"\n",
    "    },\n",
    "\n",
    "    \"What is the output of print('Hello' + 'World')?\":{\n",
    "        \"options\": [\"A. Hello World\", \"B. Hello+World\", \"C. HelloWorld\", \"D. Hello+ World\"],\n",
    "        \"answer\": \"C\"\n",
    "    }\n",
    "}"
   ]
  },
  {
   "cell_type": "markdown",
   "id": "a6ffe906",
   "metadata": {},
   "source": [
    "Create a function to allow admin to add questions."
   ]
  },
  {
   "cell_type": "code",
   "execution_count": 6,
   "id": "d9339608",
   "metadata": {},
   "outputs": [],
   "source": [
    "#function to allow admin to add questions\n",
    "def add_custom_questions():\n",
    "    print(\"\\n📝 Add Your Own Questions(type 'done' to stop)\\n\")\n",
    "    while True:\n",
    "        question = input(\"Enter your question(or type 'done' to finish):\")\n",
    "        if question.lower() ==\"done\":\n",
    "            break\n",
    "        options = []\n",
    "        for i in [\"A\", \"B\", \"C\", \"D\"]:\n",
    "            option = input(f\"Enter option {i}: \")\n",
    "            options.append(f\"{i}. {option}\")\n",
    "        answer = input(\"Enter the correct answe (A, B, C, D): \").strip().upper()\n",
    "        if answer in [\"A\", \"B\", \"C\", \"D\"]:\n",
    "            quiz_questions[question] = {\"options\": options, \"answer\": answer}\n",
    "            print(\"✅ Question added!\\n\")\n",
    "        else:\n",
    "            print(\"❌ Invalid answer. Please use A, B, C, or D.\\n\")"
   ]
  },
  {
   "cell_type": "markdown",
   "id": "6b10849c",
   "metadata": {},
   "source": [
    "Create the Quiz Function"
   ]
  },
  {
   "cell_type": "code",
   "execution_count": 7,
   "id": "c897b5c5",
   "metadata": {},
   "outputs": [],
   "source": [
    "#This function will loop through the quiz questions and grade them based on user answers.\n",
    "def run_quiz():\n",
    "    print(\"\\n🧠 Welcome to the Quiz! Type A, B, C, or D to answer.\")\n",
    "    score = 0\n",
    "    total = len(quiz_questions)\n",
    "\n",
    "    for question, details in quiz_questions.items():\n",
    "        print(\"\\n\" + question)\n",
    "        for option in details[\"options\"]:\n",
    "            print(option)\n",
    "        answer = input(\"Your answer: \").strip().upper()\n",
    "\n",
    "        if answer == details[\"answer\"]:\n",
    "            print(\"✅ Correct!\")\n",
    "            score += 1\n",
    "        else:\n",
    "            print(f\"❌ Incorrect The correct answer is {details['answer']}.\")\n",
    "\n",
    "    print(f\"\\n🏁 Quiz Complete! Your final score is {score}/{total}\")\n",
    "    return score, total"
   ]
  },
  {
   "cell_type": "markdown",
   "id": "68798848",
   "metadata": {},
   "source": [
    "Save the Quiz Results to a File"
   ]
  },
  {
   "cell_type": "code",
   "execution_count": 8,
   "id": "bf862f4a",
   "metadata": {},
   "outputs": [],
   "source": [
    "#This function lets users save their name and score to a text file.\n",
    "def save_score(name, score, total):\n",
    "    with open(\"quiz_scores.txt\", \"a\") as file:\n",
    "        file.write(f\"{name}: {score}/{total}\\n\")\n",
    "    print(\"📂 Your score has been saved!\\n\")"
   ]
  },
  {
   "cell_type": "markdown",
   "id": "aecb5f1f",
   "metadata": {},
   "source": [
    "The functiom for the Main Program"
   ]
  },
  {
   "cell_type": "code",
   "execution_count": 9,
   "id": "f46e5569",
   "metadata": {},
   "outputs": [],
   "source": [
    "\"\"\"This function will prompt the user to enter their role, and based on that input, decide if they can add \n",
    "questions. \"\"\"\n",
    "def main():\n",
    "    print(\"🎉 Welcome to the Quiz Maker & Grader!\")\n",
    "    name = input(\"Enter your name: \").lower()\n",
    "    role = input(\"Enter your role (admin/student): \").lower()\n",
    "\n",
    "    if role == \"admin\":\n",
    "        print(f\"\\n🔐 Admin Access Granted. Hello, {name}!\")\n",
    "        add_q =input(\"Would you like to add your own questions? (yes/no): \").lower()\n",
    "        if add_q == \"yes\":\n",
    "            add_custom_questions()\n",
    "    elif role == \"student\":\n",
    "        print(f\"\\n👋 Hello, {name}! Let's begin your quiz.\")\n",
    "    else:\n",
    "        print(\"❌ Invalid role. Exiting program.\")\n",
    "        return\n",
    "    \n",
    "    score, total = run_quiz()\n",
    "    save_score(name, score, total)"
   ]
  }
 ],
 "metadata": {
  "kernelspec": {
   "display_name": "Python 3",
   "language": "python",
   "name": "python3"
  },
  "language_info": {
   "codemirror_mode": {
    "name": "ipython",
    "version": 3
   },
   "file_extension": ".py",
   "mimetype": "text/x-python",
   "name": "python",
   "nbconvert_exporter": "python",
   "pygments_lexer": "ipython3",
   "version": "3.13.3"
  }
 },
 "nbformat": 4,
 "nbformat_minor": 5
}
